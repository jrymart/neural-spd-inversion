{
 "cells": [
  {
   "cell_type": "markdown",
   "metadata": {},
   "source": [
    "This notebook should be run to prepare the colab environment for the\n",
    "training and analysis notebooks"
   ],
   "id": "1f88ec51-7db9-4abd-b306-1c943907f3ab"
  },
  {
   "cell_type": "code",
   "execution_count": null,
   "metadata": {},
   "outputs": [],
   "source": [
    "!git clone https://github.com/jrymart/neural-spd-inversion.git\n",
    "%cd my_study\n",
    "\n",
    "!pip install -q -r requirements-colab.txt\n",
    "\n",
    "!pip install -q -e .\n",
    "!pip install -q -e ./lib/landlab_torch_tools\n"
   ],
   "id": "9271c3ef-3357-44ee-8a77-01f21ab92223"
  },
  {
   "cell_type": "markdown",
   "metadata": {},
   "source": [
    "All data and analysis are saved to the colab instance which will be\n",
    "deleted automatically when the colab instance is closed. The files can\n",
    "be downloaded, or saved to google drive."
   ],
   "id": "fbbb94d2-a9ad-41dc-8643-957f63994f82"
  }
 ],
 "nbformat": 4,
 "nbformat_minor": 5,
 "metadata": {}
}
