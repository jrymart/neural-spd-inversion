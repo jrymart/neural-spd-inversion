{
 "cells": [
  {
   "cell_type": "markdown",
   "metadata": {},
   "source": [
    "This notebook should be run to prepare the colab environment for the\n",
    "training and analysis notebooks"
   ],
   "id": "1d3aaf89-8b71-43f6-9d2f-5fd0de308555"
  },
  {
   "cell_type": "code",
   "execution_count": null,
   "metadata": {},
   "outputs": [],
   "source": [
    "!git clone https://github.com/jrymart/neural-spd-inversion.git\n",
    "%cd neural-spd-inversion\n",
    "\n",
    "!pip install -q -r requirements.txt\n",
    "\n",
    "!pip install -q -e .\n",
    "!pip install -q -e ./lib/landlab_torch_tools\n"
   ],
   "id": "06657ffa-a111-4010-aae8-2e8564f11cc6"
  },
  {
   "cell_type": "markdown",
   "metadata": {},
   "source": [
    "All data and analysis are saved to the colab instance which will be\n",
    "deleted automatically when the colab instance is closed. The files can\n",
    "be downloaded, or saved to google drive.\n",
    "\n",
    "This project uses a collection of [Landlab](https://landlab.csdms.io/)\n",
    "model runs. This notebook goes over a brief explanation of the model set\n",
    "up and parameters and then downloading and processing of the model runs\n",
    "from Zenodo.\n",
    "\n",
    "# The Model\n",
    "\n",
    "The model uses the following Landlab components:\n",
    "\n",
    "-   [LinearDiffuser](https://landlab.csdms.io/generated/api/landlab.components.diffusion.diffusion.html#landlab.components.diffusion.diffusion.LinearDiffuser)\n",
    "\n",
    "-   [FlowAccumulat](https://landlab.csdms.io/generated/api/landlab.components.flow_accum.flow_accumulator.html#landlab.components.flow_accum.flow_accumulator.FlowAccumulator)or\n",
    "\n",
    "-   [FastscapeEroder](https://landlab.csdms.io/generated/api/landlab.components.stream_power.fastscape_stream_power.html#landlab.components.stream_power.fastscape_stream_power.FastscapeEroder)\n",
    "\n",
    "    The model is implemented as subclass of the LandlabModel class to\n",
    "    allow for batch runs to be orchestrated by the [Landlab\n",
    "    Batcher](https://github.com/jrymart/landlab_batcher/tree/main)\n",
    "    utility. The code of the model is as follows:"
   ],
   "id": "ce5fdd39-001a-447e-8fae-c9fec1ffa864"
  },
  {
   "cell_type": "code",
   "execution_count": null,
   "metadata": {},
   "outputs": [],
   "source": [
    "from landlab.core import load_params\n",
    "from landlab.components import LinearDiffuser, FlowAccumulator, FastscapeEroder\n",
    "from model_base import LandlabModel\n",
    "import numpy as np\n",
    "\n",
    "class SimpleLem(LandlabModel):\n",
    "    def __init__(self, params={}):\n",
    "        \"\"\"Initialize the Model\"\"\"\n",
    "        super().__init__(params)\n",
    "\n",
    "        if not (\"topographic__elevation\" in self.grid.at_node.keys()):\n",
    "            self.grid.add_zeros(\"topographic__elevation\", at=\"node\")\n",
    "        rng = np.random.default_rng(seed=int(params[\"seed\"]))\n",
    "        grid_noise= rng.random(self.grid.number_of_nodes)/10\n",
    "        self.grid.at_node[\"topographic__elevation\"] += grid_noise\n",
    "        self.topo = self.grid.at_node[\"topographic__elevation\"]\n",
    "\n",
    "        self.uplift_rate = params[\"baselevel\"][\"uplift_rate\"]\n",
    "        self.diffuser = LinearDiffuser(\n",
    "            self.grid,\n",
    "            linear_diffusivity = params[\"diffuser\"][\"D\"]\n",
    "            )\n",
    "        self.accumulator = FlowAccumulator(self.grid, flow_director=\"D8\")\n",
    "        self.eroder = FastscapeEroder(self.grid,\n",
    "                                      K_sp=params[\"streampower\"][\"k\"],\n",
    "                                      m_sp=params[\"streampower\"][\"m\"],\n",
    "                                      n_sp=params[\"streampower\"][\"n\"],\n",
    "                                      threshold_sp=params[\"streampower\"][\"threshold\"])\n",
    "\n",
    "\n",
    "    def update(self, dt):\n",
    "        \"\"\"Advance the model by one time step of duration dt.\"\"\"\n",
    "        if self.current_time % 10000 == 0:\n",
    "            print(\"Model %s on year %d\" % (self.run_id, self.current_time))\n",
    "        self.topo[self.grid.core_nodes] += self.uplift_rate * dt\n",
    "        self.diffuser.run_one_step(dt)\n",
    "        self.accumulator.run_one_step()\n",
    "        self.eroder.run_one_step(dt)\n",
    "        self.current_time += dt\n"
   ],
   "id": "6a9d6203-11e4-48d9-a402-3084d9f26adb"
  },
  {
   "cell_type": "markdown",
   "metadata": {},
   "source": [
    "The model is initialized with random noise as elevation, an uplift rate,\n",
    "D8 flow router and accumulator and a diffusion and streampower erosion\n",
    "component with parameters defiend by the study. The parameters of this\n",
    "study are as follows:\n",
    "\n",
    "~~—–~~—–~~—–~~—–~~—–~~—–~~—–~~—–~~—–~~—–+\n",
    "\n",
    "|  |  |  |  |  |  |  |  |  |  |\n",
    "|----|----|----|----|----|----|----|----|----|----|\n",
    "| Rows (cells) | Columns (cells) | Grid Spacing (m) | Runtime (years) | Timestep (years) | Uplift Rate () | Diffusivity ($\\frac{m^2}{year}$) | Streampower K ($\\frac{m^{0.4}}/year$) | Streampower m | Streampower n |\n",
    "\n",
    "~~—–~~—–~~—–~~—–~~—–~~—–~~—–~~—–~~—–~~—–+\n",
    "\n",
    "|     |     |     |           |       |            |               |     |      |\n",
    "|-----|-----|-----|-----------|-------|------------|---------------|-----|------|\n",
    "| 300 | 100 | 5   | 3,000,000 | 0.001 | 0.005-0.02 | 0.00015-0.002 | 0.3 | 0.07 |\n",
    "\n",
    "~~—–~~—–~~—–~~—–~~—–~~—–~~—–~~—–~~—–~~—–+ This parameter set was run\n",
    "with 10 different random seeds, and 30 linearly spaced values across the\n",
    "parameter range for a dataset of 9000 model runs. The final Landlab\n",
    "Grids of the model runs along with parameter information and associated\n",
    "database for the Landlab batcher utility, are available on Zenodo:\n",
    "<https://doi.org/10.5281/zenodo.15311644>.\n",
    "\n",
    "# Downloading Model Topography\n",
    "\n",
    "[Pooch](https://www.fatiando.org/pooch/latest/index.html) is used to\n",
    "download the data files from Zenodo"
   ],
   "id": "c0cfae2d-48e2-4077-ba53-879b5a627e5d"
  },
  {
   "cell_type": "code",
   "execution_count": null,
   "metadata": {},
   "outputs": [],
   "source": [
    "import pooch\n",
    "from config import DATA_PATH, NPY_URL, NPY_HASH, DB_URL, DB_HASH, MODEL_DEM_DIR\n",
    "\n",
    "DATA_PATH.mkdir(exist_ok=True, parents=True)\n",
    "model_dem_paths = pooch.retrieve(url=NPY_URL,\n",
    "                           known_hash=NPY_HASH,\n",
    "                           path=DATA_PATH,\n",
    "                           processor=pooch.Untar(extract_dir=MODEL_DEM_DIR))\n",
    "db_path = pooch.retrieve(url=DB_URL,\n",
    "                           known_hash=DB_HASH,\n",
    "                           path=DATA_PATH)\n"
   ],
   "id": "cf7aec35-d66b-4fb4-8e19-eafd45c3c38c"
  },
  {
   "cell_type": "markdown",
   "metadata": {},
   "source": [
    "# Processing data for Flow Accumulation rasters\n",
    "\n",
    "We generate flow accumulation rasters for each model DEM for later\n",
    "analysis"
   ],
   "id": "258bb0e4-dfd3-4849-9f9e-aef965e94204"
  },
  {
   "cell_type": "code",
   "execution_count": null,
   "metadata": {},
   "outputs": [],
   "source": [
    "import numpy as np\n",
    "import os\n",
    "from landlab import RasterModelGrid\n",
    "from landlab.components import FlowAccumulator\n",
    "from config import FLOW_METHOD, MODEL_ACC_DIR, MODEL_RESOLUTION\n",
    "\n",
    "acc_paths = []\n",
    "for dem_path in model_dem_paths:\n",
    "    dem_array = np.load(dem_path)\n",
    "    dem_id = os.path.splitext(os.path.split(dem_path)[1])[0]\n",
    "    grid = RasterModelGrid(topo.shape, MODEL_RESOLUTION)\n",
    "    grid.add_field(\"node\", \"topographic__elevation\", z, units=\"m\")\n",
    "    accumulator = FlowAccumulator(grid, flow_director = FLOW_METHOD)\n",
    "    accumulator.run_one_step()\n",
    "    # this step is to ensure consistency in processing with real data\n",
    "    flow_acc_array = grid.at_node[\"drainage_area\"].reshape(grid.shape)\n",
    "    acc_path = os.path.join(DATA_PATH, MODEL_ACC_DIR, f\"{dem_id}.npy\")\n",
    "    acc_paths.append(acc_path)\n",
    "    np.save(acc_path, flow_acc_array)\n"
   ],
   "id": "f3332954-a3c0-49b5-815a-9668d7c8fb9b"
  },
  {
   "cell_type": "markdown",
   "metadata": {},
   "source": [
    "# Data Statistics\n",
    "\n",
    "We calculate some simple data statistics which will be used for\n",
    "normalizing the data prior to training the neural networks. We calculate\n",
    "statistics from the portion of the dataset used in training, so as not\n",
    "to taint the dataset with statistical information from the testing set.\n",
    "While our data is drawn from one distribution, this is beind done as a\n",
    "best practice."
   ],
   "id": "a4583f88-4a88-413a-9b5f-f8eea6663a58"
  },
  {
   "cell_type": "code",
   "execution_count": null,
   "metadata": {},
   "outputs": [],
   "source": [
    "def get_array_statistics(array_paths, crop):\n",
    "    array_total_sum = 0.0\n",
    "    array_total_sum_sq = 0.0\n",
    "    array_total_count = 0\n",
    "    for path in array_paths:\n",
    "        data_array=np.load(path)[crop:-crop,crop:-crop]\n",
    "        array_total_sum += np.sum(data_array)\n",
    "        array_total_sum_sq += np.sum(np.square(data_array))\n",
    "        array_total_count += data_array.size\n",
    "    array_mean = inputs_total_sum / inputs_total_count\n",
    "    variance = (array_total_sum_sq / inputs_total_count) - np.square(inputs.mean)\n",
    "    array_std = np.sqrt(variance)\n",
    "    return {'inputs_mean': array_mean, 'inputs_std': array_std}\n",
    "\n",
    "import sqlite3\n",
    "import json\n",
    "from config import SPLIT_BY_FIELD, TRAINING_FRACTION, PARAM_TABLE, RUN_ID_FIELD, MODEL_DEM_PATH, MODEL_ARRAY_CROP, LABEL_QUERY, OUTPUTS_TABLE, MODEL_STATS_PATH\n"
   ],
   "id": "79efab4c-391c-400b-8926-74659baca2c6"
  },
  {
   "cell_type": "markdown",
   "metadata": {},
   "source": [
    "We use a parameter in the model parameter database (in this case) the\n",
    "seed to split between train and test datasets, so we need to connect to\n",
    "and query the database for runs."
   ],
   "id": "dfe439ff-598e-45f2-817d-73f94748879b"
  },
  {
   "cell_type": "code",
   "execution_count": null,
   "metadata": {},
   "outputs": [],
   "source": [
    "connection = sqlite3.connect(db_path)\n",
    "cursor = connection.cursor()\n",
    "cursor.execute(f\"SELECT DISTINCT \\\"{SPLIT_BY_FIELD}\\\" FROM {PARAM_TABLE}\")\n",
    "categories = [r[0] for r in cursor.fetchall()]\n",
    "split = int((len(categories) * TRAINING_FRACTION))\n",
    "train_categories = categories[:split]\n",
    "train_filter = f\"\\\"{SPLIT_BY_FIELD}\\\" IN ({', '.join([str(c) for c in train_categories])})\"\n",
    "cursor.execute(f\"SELECT {RUN_ID_FIELD} FROM {PARAM_TABLE} WHERE {train_filter}\")\n",
    "model_run_ids = [r[0] for in cursor.fetchall()]\n",
    "train_paths = [os.path.join(MODEL_DEM_PATH, \"f{name}.npy\") for name in model_run_ids]\n",
    "acc_paths = [os.path.join(DATA_PATH, MODEL_ACC_PATH \"f{name}.npy\") for run model_run_ids]\n",
    "statistics = {}\n",
    "statistics['dem'] = get_array_statistics(train_dem_paths, MODEL_ARRAY_CROP)\n",
    "statistics['accumulation'] = get_array_statistics(train_acc_paths, MODEL_ARRAY_CROP)\n"
   ],
   "id": "74b0d91b-2992-4d4a-a8a8-97dd9e43882d"
  },
  {
   "cell_type": "markdown",
   "metadata": {},
   "source": [
    "Lastly, we need the statistics of the labels we will train the network\n",
    "to infer."
   ],
   "id": "71913092-4e16-4121-bd00-63889ee5e927"
  },
  {
   "cell_type": "code",
   "execution_count": null,
   "metadata": {},
   "outputs": [],
   "source": [
    "labels = []\n",
    "limit = connection.getlimit(sqlite3.SQLITE_LIMIT_VARIABLE_NUMBER)\n",
    "for i in range(0, len(model_run_ids), limit):\n",
    "    current_chunk_runs = model_run_ids[i:i+limit]\n",
    "    # placeholders are a safe way to programatically construct an SQL query\n",
    "    placeholders = ', '.join(['?']*len(current_chunk_runs))\n",
    "    cursor.execute(f\"SELECT {LABEL_QUERY} FROM {OUTPUTS_TABLE} WHERE {RUN_ID_FIELD} IN ({placeholders})\", current_chunk_runs)\n",
    "    labels += [l[0] for l in cursor.fetchall()]\n",
    "labels = np.array(labels, dtype=np.float64)\n",
    "statistcs['labels'] = {'labels_mean': np.mean(labels),\n",
    "                       'labels_std' : np.std(labels)}\n",
    "with open(MODEL_STATS_PATH, 'w') as f:\n",
    "    json.dump(stats, f)\n"
   ],
   "id": "cd2c7734-da22-49d4-bd42-f6b104a7808b"
  },
  {
   "cell_type": "markdown",
   "metadata": {},
   "source": [
    "# Training Neural Networks to Infer the Peclet Number\n",
    "\n",
    "This notebook trains convolutional neural networks to infer the D/K\n",
    "ratio of 2D streampower-diffusion landscape evolution models"
   ],
   "id": "638e0190-ab3c-412e-b148-a804c6d56ed4"
  },
  {
   "cell_type": "code",
   "execution_count": null,
   "metadata": {},
   "outputs": [],
   "source": [
    "import torch\n",
    "from train_peclet_model import PecletModelTrainer\n",
    "from ThreeLayerCNNRegressor import ThreeLayerCNNRegressor, JumboThreeLayerCNNRegressor\n",
    "import json\n",
    "\n",
    "from config import MODEL_STATS_PATH, DB_PATH, MODEL_DEM_PATH, LABEL_QUERY, OUTPUTS_TABLE, WEIGHTS_PATH, NN_SEEDS\n"
   ],
   "id": "c939012f-7408-44ec-8e4c-9d97c3b74b83"
  },
  {
   "cell_type": "code",
   "execution_count": null,
   "metadata": {},
   "outputs": [],
   "source": [
    "with open(MODEL_STATS_PATH, 'r') as f:\n",
    "    stats = json.load(f)\n",
    "retrain = False\n",
    "data_types = [{'type': 'dem',\n",
    "               'data_path': MODEL_DEM_PATH},\n",
    "              {'type': 'accumulation',\n",
    "               'data_path': MODEL_ACC_PATH}\n",
    "               ]\n"
   ],
   "id": "55ead200-f9de-4b05-bd86-d0fdde5d1def"
  },
  {
   "cell_type": "code",
   "execution_count": null,
   "metadata": {},
   "outputs": [],
   "source": [
    "for seed in NN_SEEDS:\n",
    "    for data in data_types:\n",
    "        torch.manual_seed(seed)\n",
    "        weights_path = os.path.join(WEIGHTS_DIR, f\"{data['type']_{seed}_weights.pt\")\n",
    "        if not os.path.exists(weights_path) or retrain:\n",
    "            trainer = PecletModelTrainer(DB_PATH,\n",
    "                                        data['data_path'],\n",
    "                                        ThreeLayerCNNRegressor,\n",
    "                                        f\"SELECT {LABEL_QUERY} FROM {OUTPUTS_TABLE}\",\n",
    "                                        epochs = 50,\n",
    "                                        learning_rate=0.0001,\n",
    "                                        **stats[data['type']],\n",
    "                                        **stats['labels'])\n",
    "            trainer.train()\n",
    "            trainer.save_weights(weights_path)\n"
   ],
   "id": "b136a501-eaf1-419e-b762-eb6b9b556423"
  },
  {
   "cell_type": "markdown",
   "metadata": {},
   "source": [
    "We also train a \"jumbo\" model with larger layers."
   ],
   "id": "761730d0-4056-4d42-b1de-062260e4c731"
  },
  {
   "cell_type": "code",
   "execution_count": null,
   "metadata": {},
   "outputs": [],
   "source": [
    "weights_path = os.path.join(WEIGHTS_dir, 'dem_jumbo_run_weights.pt')\n",
    "if not os.path.exists(weights_path) or retrain:\n",
    "    torch.manual_seed(NN_SEEDS[0])\n",
    "    traier = PecletModelTrainer(DB_PATH,\n",
    "                                MODEL_DEM_PATH,\n",
    "                                JumboThreeLayerCNNRegressor,\n",
    "                                f\"SELECT {LABEL_QUERY} FROM {OUTPUTS_TABLE}\",\n",
    "                                epochs = 50,\n",
    "                                learning_rate=0.0001,\n",
    "                                **stats['dem'],\n",
    "                                **stats['labels'])\n",
    "    trainer.train()\n",
    "    trainer.save_weights(weights_path)\n"
   ],
   "id": "2cc48962-333d-47f6-8bc2-06e86590210d"
  },
  {
   "cell_type": "code",
   "execution_count": null,
   "metadata": {},
   "outputs": [],
   "source": [
    "import torch\n",
    "from train_peclet_model import PecletModelTrainer\n",
    "from ThreeLayerCNNRegressor import ThreeLayerCNNRegressor, JumboThreeLayerCNNRegressor\n",
    "import json\n",
    "\n",
    "from config import MODEL_STATS_PATH, DB_PATH, MODEL_DEM_PATH, LABEL_QUERY, OUTPUTS_TABLE, WEIGHTS_PATH, NN_SEEDS\n"
   ],
   "id": "68bd5a91-422b-4392-a09b-1a0c54b0ecaf"
  },
  {
   "cell_type": "code",
   "execution_count": null,
   "metadata": {},
   "outputs": [],
   "source": [
    "with open(MODEL_STATS_PATH, 'r') as f:\n",
    "    stats = json.load(f)\n",
    "retrain = False\n",
    "data_types = [{'type': 'dem',\n",
    "               'data_path': MODEL_DEM_PATH},\n",
    "              {'type': 'accumulation',\n",
    "               'data_path': MODEL_ACC_PATH}\n",
    "               ]\n"
   ],
   "id": "3f1f1f27-665e-41da-aecc-8ca828516cca"
  },
  {
   "cell_type": "code",
   "execution_count": null,
   "metadata": {},
   "outputs": [],
   "source": [
    "for seed in NN_SEEDS:\n",
    "    for data in data_types:\n",
    "        torch.manual_seed(seed)\n",
    "        weights_path = os.path.join(WEIGHTS_DIR, f\"{data['type']_{seed}_weights.pt\")\n",
    "        trainer = PecletModelTrainer(DB_PATH,\n",
    "                                    data['data_path'],\n",
    "                                    ThreeLayerCNNRegressor,\n",
    "                                    f\"SELECT {LABEL_QUERY} FROM {OUTPUTS_TABLE}\",\n",
    "                                    epochs = 50,\n",
    "                                    learning_rate=0.0001,\n",
    "                                    **stats[data['type']],\n",
    "                                    **stats['labels'])\n",
    "        trainer.load_weights(weights_path)\n",
    "        trainer.evaluate()\n",
    "        csv_path = os.path.join(RESULTS_DIR, f\"{data['type']}_{seed}_results.csv\")\n",
    "        trainer.test_df.to_csv(csv_path)\n"
   ],
   "id": "9df44edc-eb1f-4e6a-b76a-dac36d0d2092"
  },
  {
   "cell_type": "markdown",
   "metadata": {},
   "source": [
    "We also train a \"jumbo\" model with larger layers."
   ],
   "id": "140cee52-33da-4717-8696-d5648c617778"
  },
  {
   "cell_type": "code",
   "execution_count": null,
   "metadata": {},
   "outputs": [],
   "source": [
    "weights_path = os.path.join(WEIGHTS_dir, 'dem_jumbo_run_weights.pt')\n",
    "torch.manual_seed(NN_SEEDS[0])\n",
    "traier = PecletModelTrainer(DB_PATH,\n",
    "                            MODEL_DEM_PATH,\n",
    "                            JumboThreeLayerCNNRegressor,\n",
    "                            f\"SELECT {LABEL_QUERY} FROM {OUTPUTS_TABLE}\",\n",
    "                            epochs = 50,\n",
    "                            learning_rate=0.0001,\n",
    "                            **stats['dem'],\n",
    "                            **stats['labels'])\n",
    "trainer.load_weights(weights_path)\n",
    "trainer.evaluate()\n",
    "csv_path = os.path.join(RESULTS_DIR, 'dem_jumbo_run_results.pt')\n",
    "trainer.test_df.to_csv(csv_path)\n"
   ],
   "id": "27b1b009-336e-489d-b87b-a6dacaea1d45"
  }
 ],
 "nbformat": 4,
 "nbformat_minor": 5,
 "metadata": {}
}
