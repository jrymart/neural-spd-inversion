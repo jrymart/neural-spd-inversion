{
 "cells": [
  {
   "cell_type": "code",
   "execution_count": null,
   "metadata": {},
   "outputs": [],
   "source": [
    "import torch\n",
    "from train_peclet_model import PecletModelTrainer\n",
    "from ThreeLayerCNNRegressor import ThreeLayerCNNRegressor, JumboThreeLayerCNNRegressor\n",
    "import json\n",
    "\n",
    "from config import MODEL_STATS_PATH, DB_PATH, MODEL_DEM_PATH, LABEL_QUERY, OUTPUTS_TABLE, WEIGHTS_PATH, NN_SEEDS\n"
   ],
   "id": "54bdc280-412f-46f0-bd79-739991111a66"
  },
  {
   "cell_type": "code",
   "execution_count": null,
   "metadata": {},
   "outputs": [],
   "source": [
    "with open(MODEL_STATS_PATH, 'r') as f:\n",
    "    stats = json.load(f)\n",
    "retrain = False\n",
    "data_types = [{'type': 'dem',\n",
    "               'data_path': MODEL_DEM_PATH},\n",
    "              {'type': 'accumulation',\n",
    "               'data_path': MODEL_ACC_PATH}\n",
    "               ]\n"
   ],
   "id": "8ffb2c34-3f9b-48de-849d-b61d5713f065"
  },
  {
   "cell_type": "code",
   "execution_count": null,
   "metadata": {},
   "outputs": [],
   "source": [
    "for seed in NN_SEEDS:\n",
    "    for data in data_types:\n",
    "        torch.manual_seed(seed)\n",
    "        weights_path = os.path.join(WEIGHTS_DIR, f\"{data['type']_{seed}_weights.pt\")\n",
    "        trainer = PecletModelTrainer(DB_PATH,\n",
    "                                    data['data_path'],\n",
    "                                    ThreeLayerCNNRegressor,\n",
    "                                    f\"SELECT {LABEL_QUERY} FROM {OUTPUTS_TABLE}\",\n",
    "                                    epochs = 50,\n",
    "                                    learning_rate=0.0001,\n",
    "                                    **stats[data['type']],\n",
    "                                    **stats['labels'])\n",
    "        trainer.load_weights(weights_path)\n",
    "        trainer.evaluate()\n",
    "        csv_path = os.path.join(RESULTS_DIR, f\"{data['type']}_{seed}_results.csv\")\n",
    "        trainer.test_df.to_csv(csv_path)\n"
   ],
   "id": "40cd06e5-9a16-468f-a3c7-63e26b30221f"
  },
  {
   "cell_type": "markdown",
   "metadata": {},
   "source": [
    "We also train a \"jumbo\" model with larger layers."
   ],
   "id": "5ba567fe-5de8-413c-a6ad-bcafdd6db939"
  },
  {
   "cell_type": "code",
   "execution_count": null,
   "metadata": {},
   "outputs": [],
   "source": [
    "weights_path = os.path.join(WEIGHTS_dir, 'dem_jumbo_run_weights.pt')\n",
    "torch.manual_seed(NN_SEEDS[0])\n",
    "traier = PecletModelTrainer(DB_PATH,\n",
    "                            MODEL_DEM_PATH,\n",
    "                            JumboThreeLayerCNNRegressor,\n",
    "                            f\"SELECT {LABEL_QUERY} FROM {OUTPUTS_TABLE}\",\n",
    "                            epochs = 50,\n",
    "                            learning_rate=0.0001,\n",
    "                            **stats['dem'],\n",
    "                            **stats['labels'])\n",
    "trainer.load_weights(weights_path)\n",
    "trainer.evaluate()\n",
    "csv_path = os.path.join(RESULTS_DIR, 'dem_jumbo_run_results.pt')\n",
    "trainer.test_df.to_csv(csv_path)\n"
   ],
   "id": "db1ceb90-1959-47e9-a7dd-409f1975049a"
  }
 ],
 "nbformat": 4,
 "nbformat_minor": 5,
 "metadata": {}
}
