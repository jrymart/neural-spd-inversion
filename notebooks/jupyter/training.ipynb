{
 "cells": [
  {
   "cell_type": "markdown",
   "metadata": {},
   "source": [
    "# Training Neural Networks to Infer the Peclet Number\n",
    "\n",
    "This notebook trains convolutional neural networks to infer the D/K\n",
    "ratio of 2D streampower-diffusion landscape evolution models"
   ],
   "id": "154f2eea-d848-49e7-8d35-81a5dcb56777"
  },
  {
   "cell_type": "code",
   "execution_count": null,
   "metadata": {},
   "outputs": [],
   "source": [
    "import torch\n",
    "from train_peclet_model import PecletModelTrainer\n",
    "from ThreeLayerCNNRegressor import ThreeLayerCNNRegressor, JumboThreeLayerCNNRegressor\n",
    "import json\n",
    "\n",
    "from config import MODEL_STATS_PATH, DB_PATH, MODEL_DEM_PATH, LABEL_QUERY, OUTPUTS_TABLE, WEIGHTS_PATH, NN_SEEDS\n"
   ],
   "id": "ddcb178e-3029-4c93-8f6c-5a769541c2c9"
  },
  {
   "cell_type": "code",
   "execution_count": null,
   "metadata": {},
   "outputs": [],
   "source": [
    "with open(MODEL_STATS_PATH, 'r') as f:\n",
    "    stats = json.load(f)\n",
    "retrain = False\n",
    "data_types = [{'type': 'dem',\n",
    "               'data_path': MODEL_DEM_PATH},\n",
    "              {'type': 'accumulation',\n",
    "               'data_path': MODEL_ACC_PATH}\n",
    "               ]\n"
   ],
   "id": "101e3d48-7897-4a26-bdba-171e59723109"
  },
  {
   "cell_type": "code",
   "execution_count": null,
   "metadata": {},
   "outputs": [],
   "source": [
    "for seed in NN_SEEDS:\n",
    "    for data in data_types:\n",
    "        torch.manual_seed(seed)\n",
    "        weights_path = os.path.join(WEIGHTS_DIR, f\"{data['type']_{seed}_weights.pt\")\n",
    "        if not os.path.exists(weights_path) or retrain:\n",
    "            trainer = PecletModelTrainer(DB_PATH,\n",
    "                                        data['data_path'],\n",
    "                                        ThreeLayerCNNRegressor,\n",
    "                                        f\"SELECT {LABEL_QUERY} FROM {OUTPUTS_TABLE}\",\n",
    "                                        epochs = 50,\n",
    "                                        learning_rate=0.0001,\n",
    "                                        **stats[data['type']],\n",
    "                                        **stats['labels'])\n",
    "            trainer.train()\n",
    "            trainer.save_weights(weights_path)\n"
   ],
   "id": "ebfd2544-ea52-4925-a40a-cb1d657959a7"
  },
  {
   "cell_type": "markdown",
   "metadata": {},
   "source": [
    "We also train a \"jumbo\" model with larger layers."
   ],
   "id": "4415c1fa-63f4-4015-80bb-9247f0ebf5e4"
  },
  {
   "cell_type": "code",
   "execution_count": null,
   "metadata": {},
   "outputs": [],
   "source": [
    "weights_path = os.path.join(WEIGHTS_dir, 'dem_jumbo_run_weights.pt')\n",
    "if not os.path.exists(weights_path) or retrain:\n",
    "    torch.manual_seed(NN_SEEDS[0])\n",
    "    traier = PecletModelTrainer(DB_PATH,\n",
    "                                MODEL_DEM_PATH,\n",
    "                                JumboThreeLayerCNNRegressor,\n",
    "                                f\"SELECT {LABEL_QUERY} FROM {OUTPUTS_TABLE}\",\n",
    "                                epochs = 50,\n",
    "                                learning_rate=0.0001,\n",
    "                                **stats['dem'],\n",
    "                                **stats['labels'])\n",
    "    trainer.train()\n",
    "    trainer.save_weights(weights_path)\n"
   ],
   "id": "dafdd165-3d29-404a-b64a-444788677d1d"
  }
 ],
 "nbformat": 4,
 "nbformat_minor": 5,
 "metadata": {}
}
